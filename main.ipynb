{
 "cells": [
  {
   "cell_type": "code",
   "execution_count": 1,
   "id": "8fcd74f4",
   "metadata": {},
   "outputs": [],
   "source": [
    "# Import các crawler tools\n",
    "import sys\n",
    "import os\n",
    "\n",
    "# Import các crawler classes\n",
    "from crawl_tools.acm_crawler import ACMCrawler\n",
    "from crawl_tools.arxiv_crawler import ArxivCrawler\n",
    "from crawl_tools.ieee_crawler import IEEECrawler\n",
    "from crawl_tools.mdpi_crawler import MDPICrawler\n",
    "from crawl_tools.science_direct_crawler import ScienceDirectCrawler\n",
    "from crawl_tools.springer_crawler import SpringerCrawler"
   ]
  },
  {
   "cell_type": "code",
   "execution_count": 2,
   "id": "bb4ce939",
   "metadata": {},
   "outputs": [],
   "source": [
    "keyword_sets = {\n",
    "        't2sql': ['\"text-to-sql\"', '\"nl2sql\"', '\"t2sql\"', '\"text2sql\"'] \n",
    "        #          '\"natural language to sql\"', '\"semantic parsing to sql\"', '\"nl to sql\"'],\n",
    "        # 'security': ['\"security\"', '\"access control\"', '\"injection\"', \n",
    "        #             '\"prompt injection\"', '\"defense\"', '\"attack\"', '\"vulnerability\"'],\n",
    "        # 'llm': ['\"llm\"', '\"large language model\"']\n",
    "    }"
   ]
  },
  {
   "cell_type": "code",
   "execution_count": null,
   "id": "6742744d",
   "metadata": {},
   "outputs": [],
   "source": [
    "# Cấu hình chung cho tất cả các crawler\n",
    "CRAWL_CONFIG = {\n",
    "    'headless': False,          # Chạy browser ẩn\n",
    "    'max_threads': 4,          # Số threads tối đa (giảm để tránh bị block)\n",
    "    'use_multithreading': True # Sử dụng multithreading\n",
    "}\n",
    "\n",
    "# Danh sách các crawler và thư mục output tương ứng\n",
    "CRAWLERS = {\n",
    "    'acm': {\n",
    "        'output_dir': 'output/acm'\n",
    "    },\n",
    "    'arxiv': {\n",
    "        'output_dir': 'output/arxiv'\n",
    "    },\n",
    "    'ieee': {\n",
    "        'output_dir': 'output/ieee'\n",
    "    },\n",
    "    'mdpi': {\n",
    "        'output_dir': 'output/mdpi'\n",
    "    },\n",
    "    'science_direct': {\n",
    "        'output_dir': 'output/science_direct'\n",
    "    },\n",
    "    'springer': {\n",
    "        'output_dir': 'output/springer'\n",
    "    }\n",
    "}\n",
    "\n",
    "print(f\"📋 Đã cấu hình {len(CRAWLERS)} crawler tools\")\n"
   ]
  },
  {
   "cell_type": "code",
   "execution_count": null,
   "id": "34d4976e",
   "metadata": {},
   "outputs": [],
   "source": [
    "with ArxivCrawler(\n",
    "            headless=CRAWL_CONFIG['headless'],\n",
    "            output_dir=CRAWLERS['arxiv']['output_dir'],\n",
    "            max_threads=CRAWL_CONFIG['max_threads'],\n",
    "            keyword_sets=keyword_sets\n",
    "        ) as crawler:\n",
    "            results = crawler.crawl_complete(use_multithreading=CRAWL_CONFIG['use_multithreading'])\n",
    "            print(f\"🎉 Crawling completed! Results: {len(results)} keyword searches\")"
   ]
  },
  {
   "cell_type": "code",
   "execution_count": null,
   "id": "36c5d120",
   "metadata": {},
   "outputs": [],
   "source": [
    "# 🎯 ACM Digital Library Crawler (với xử lý cookie tự động)\n",
    "print(\"🚀 Starting ACM Digital Library crawling...\")\n",
    "\n",
    "with ACMCrawler(\n",
    "    headless=CRAWL_CONFIG['headless'],\n",
    "    output_dir=CRAWLERS['acm']['output_dir'],\n",
    "    max_threads=CRAWL_CONFIG['max_threads'],\n",
    "    keyword_sets=keyword_sets\n",
    ") as crawler:\n",
    "    results = crawler.crawl_complete(use_multithreading=CRAWL_CONFIG['use_multithreading'])\n",
    "    print(f\"🎉 ACM Crawling completed! Results: {len(results)} keyword searches\")\n"
   ]
  },
  {
   "cell_type": "code",
   "execution_count": null,
   "id": "033a25a1",
   "metadata": {},
   "outputs": [],
   "source": [
    "# 🎯 IEEE Xplore Crawler\n",
    "print(\"🚀 Starting IEEE Xplore crawling...\")\n",
    "\n",
    "with IEEECrawler(\n",
    "    headless=CRAWL_CONFIG['headless'],\n",
    "    output_dir=CRAWLERS['ieee']['output_dir'],\n",
    "    max_threads=CRAWL_CONFIG['max_threads'],\n",
    "    keyword_sets=keyword_sets\n",
    ") as crawler:\n",
    "    results = crawler.crawl_complete(use_multithreading=CRAWL_CONFIG['use_multithreading'])\n",
    "    print(f\"🎉 IEEE Crawling completed! Results: {len(results)} keyword searches\")\n"
   ]
  },
  {
   "cell_type": "code",
   "execution_count": null,
   "id": "06d181f4",
   "metadata": {},
   "outputs": [],
   "source": [
    "# 🎯 MDPI Crawler\n",
    "print(\"🚀 Starting MDPI crawling...\")\n",
    "\n",
    "with MDPICrawler(\n",
    "    headless=CRAWL_CONFIG['headless'],\n",
    "    output_dir=CRAWLERS['mdpi']['output_dir'],\n",
    "    max_threads=CRAWL_CONFIG['max_threads'],\n",
    "    keyword_sets=keyword_sets\n",
    ") as crawler:\n",
    "    results = crawler.crawl_complete(use_multithreading=CRAWL_CONFIG['use_multithreading'])\n",
    "    print(f\"🎉 MDPI Crawling completed! Results: {len(results)} keyword searches\")\n"
   ]
  },
  {
   "cell_type": "code",
   "execution_count": null,
   "id": "9c0d4fa2",
   "metadata": {},
   "outputs": [],
   "source": [
    "# 🎯 Science Direct Crawler\n",
    "print(\"🚀 Starting Science Direct crawling...\")\n",
    "\n",
    "with ScienceDirectCrawler(\n",
    "    headless=CRAWL_CONFIG['headless'],\n",
    "    output_dir=CRAWLERS['science_direct']['output_dir'],\n",
    "    max_threads=CRAWL_CONFIG['max_threads'],\n",
    "    keyword_sets=keyword_sets\n",
    ") as crawler:\n",
    "    results = crawler.crawl_complete(use_multithreading=CRAWL_CONFIG['use_multithreading'])\n",
    "    print(f\"🎉 Science Direct Crawling completed! Results: {len(results)} keyword searches\")\n"
   ]
  },
  {
   "cell_type": "code",
   "execution_count": null,
   "id": "f4b0ca8f",
   "metadata": {},
   "outputs": [],
   "source": [
    "# 🎯 Springer Crawler (với xử lý cookie tự động)\n",
    "print(\"🚀 Starting Springer crawling...\")\n",
    "\n",
    "with SpringerCrawler(\n",
    "    headless=CRAWL_CONFIG['headless'],\n",
    "    output_dir=CRAWLERS['springer']['output_dir'],\n",
    "    max_threads=CRAWL_CONFIG['max_threads'],\n",
    "    keyword_sets=keyword_sets\n",
    ") as crawler:\n",
    "    results = crawler.crawl_complete(use_multithreading=CRAWL_CONFIG['use_multithreading'])\n",
    "    print(f\"🎉 Springer Crawling completed! Results: {len(results)} keyword searches\")\n"
   ]
  },
  {
   "cell_type": "code",
   "execution_count": null,
   "id": "f5556106",
   "metadata": {},
   "outputs": [],
   "source": [
    "print(\"🚀 Starting MDPI crawling...\")\n",
    "with MDPICrawler(\n",
    "    headless=CRAWL_CONFIG['headless'],\n",
    "    output_dir=CRAWL_CONFIG['springer']['output_dir'],\n",
    "    max_threads=CRAWL_CONFIG['max_threads'],\n",
    "    keyword_sets=keyword_sets\n",
    ") as crawler:\n",
    "    results=crawler.crawl_complete(use_multithreading=CRAWL_CONFIG['use_multithreading'])\n",
    "    print(f\"🎉 MDPI Crawling completed! Results: {len(results)} keyword searches\")"
   ]
  }
 ],
 "metadata": {
  "kernelspec": {
   "display_name": "base",
   "language": "python",
   "name": "python3"
  },
  "language_info": {
   "codemirror_mode": {
    "name": "ipython",
    "version": 3
   },
   "file_extension": ".py",
   "mimetype": "text/x-python",
   "name": "python",
   "nbconvert_exporter": "python",
   "pygments_lexer": "ipython3",
   "version": "3.12.7"
  }
 },
 "nbformat": 4,
 "nbformat_minor": 5
}
