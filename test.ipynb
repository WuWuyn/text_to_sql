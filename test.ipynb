{
 "cells": [
  {
   "cell_type": "code",
   "execution_count": null,
   "id": "2d711032",
   "metadata": {},
   "outputs": [],
   "source": [
    "import pandas as pd\n",
    "import os\n",
    "from crawl_tools.acm_crawler import ACMCrawler\n",
    "from crawl_tools.arxiv_crawler import ArxivCrawler\n",
    "from crawl_tools.ieee_crawler import IEEECrawler\n",
    "from crawl_tools.science_direct_crawler import ScienceDirectCrawler\n",
    "from crawl_tools.springer_crawler import SpringerCrawler\n",
    "from filter_tools.content_analysis import ContentAnalyzer\n",
    "from filter_tools.download_papers import PaperDownloader\n",
    "from filter_tools.keywords_filter_paper import KeywordFilter"
   ]
  },
  {
   "cell_type": "code",
   "execution_count": null,
   "id": "d07b5695",
   "metadata": {},
   "outputs": [],
   "source": [
    "output_dir = \"crawl_results\"\n",
    "keyword_sets = {\n",
    "    'functional testing': ['\"Software Testing\"', '\"Testing\"', '\"Test Automation\"', '\"Test Case Generation\"', '\"Test Script Generation\"', '\"Test Data Generation\"', '\"Test Oracle Generation\"', '\"Test Repair\"'],\n",
    "    'functional': ['\"Functional Testing\"', '\"System Testing\"', '\"End-to-End Testing\"', '\"GUI Testing\"', '\"UI Testing\"', '\"Web Testing\"', '\"Mobile Testing\"', \n",
    "                '\"Agent\"', '\"AI Agent\"', '\"Autonomous Agent\"', '\"Prompt Engineering\"', '\"Chain-of-Thought\"', '\"Retrieval-Augmented Generation\"'],\n",
    "    'llm': ['\"llm\"', '\"large language model\"']\n",
    "}\n",
    "\n",
    "os.makedirs(output_dir, exist_ok=True)\n",
    "CRAWL_CONFIG = {\n",
    "    'headless': False,     \n",
    "    'max_threads': 4,          \n",
    "    'use_multithreading': True \n",
    "}\n",
    "CRAWLERS = {\n",
    "    'acm': {\n",
    "        'output_dir': 'output/acm'\n",
    "    },\n",
    "    'arxiv': {\n",
    "        'output_dir': 'output/arxiv'\n",
    "    },\n",
    "    'ieee': {\n",
    "        'output_dir': 'output/ieee'\n",
    "    },\n",
    "    'mdpi': {\n",
    "        'output_dir': 'output/mdpi'\n",
    "    },\n",
    "    'science_direct': {\n",
    "        'output_dir': 'output/science_direct'\n",
    "    },\n",
    "    'springer': {\n",
    "        'output_dir': 'output/springer'\n",
    "    }\n",
    "}\n",
    "\n",
    "print(f\"📋 Đã cấu hình {len(CRAWLERS)} crawler tools\")\n"
   ]
  },
  {
   "cell_type": "code",
   "execution_count": null,
   "id": "ff4bde3a",
   "metadata": {},
   "outputs": [],
   "source": [
    "with ArxivCrawler(\n",
    "            headless=CRAWL_CONFIG['headless'],\n",
    "            output_dir=CRAWLERS['arxiv']['output_dir'],\n",
    "            max_threads=CRAWL_CONFIG['max_threads'],\n",
    "            keyword_sets=keyword_sets\n",
    "        ) as crawler:\n",
    "            results = crawler.crawl_complete(use_multithreading=CRAWL_CONFIG['use_multithreading'])\n",
    "            print(f\"🎉 Crawling completed! Results: {len(results)} keyword searches\")"
   ]
  },
  {
   "cell_type": "code",
   "execution_count": null,
   "id": "1e86c91c",
   "metadata": {},
   "outputs": [],
   "source": [
    "print(\"🚀 Starting ACM Digital Library crawling...\")\n",
    "\n",
    "with ACMCrawler(\n",
    "    headless=CRAWL_CONFIG['headless'],\n",
    "    output_dir=CRAWLERS['acm']['output_dir'],\n",
    "    max_threads=CRAWL_CONFIG['max_threads'],\n",
    "    keyword_sets=keyword_sets\n",
    ") as crawler:\n",
    "    results = crawler.crawl_complete(use_multithreading=CRAWL_CONFIG['use_multithreading'])\n",
    "    print(f\"🎉 ACM Crawling completed! Results: {len(results)} keyword searches\")\n"
   ]
  },
  {
   "cell_type": "code",
   "execution_count": null,
   "id": "bd5dbcb1",
   "metadata": {},
   "outputs": [],
   "source": [
    "print(\"🚀 Starting IEEE Xplore crawling...\")\n",
    "\n",
    "with IEEECrawler(\n",
    "    headless=CRAWL_CONFIG['headless'],\n",
    "    output_dir=CRAWLERS['ieee']['output_dir'],\n",
    "    max_threads=CRAWL_CONFIG['max_threads'],\n",
    "    keyword_sets=keyword_sets\n",
    ") as crawler:\n",
    "    results = crawler.crawl_complete(use_multithreading=CRAWL_CONFIG['use_multithreading'])\n",
    "    print(f\"🎉 IEEE Crawling completed! Results: {len(results)} keyword searches\")\n"
   ]
  },
  {
   "cell_type": "code",
   "execution_count": null,
   "id": "b63563a2",
   "metadata": {},
   "outputs": [],
   "source": [
    "print(\"🚀 Starting Science Direct crawling...\")\n",
    "\n",
    "with ScienceDirectCrawler(\n",
    "    headless=CRAWL_CONFIG['headless'],\n",
    "    output_dir=CRAWLERS['science_direct']['output_dir'],\n",
    "    max_threads=CRAWL_CONFIG['max_threads'],\n",
    "    keyword_sets=keyword_sets\n",
    ") as crawler:\n",
    "    results = crawler.crawl_complete(use_multithreading=CRAWL_CONFIG['use_multithreading'])\n",
    "    print(f\"🎉 Science Direct Crawling completed! Results: {len(results)} keyword searches\")\n"
   ]
  },
  {
   "cell_type": "code",
   "execution_count": null,
   "id": "7dadc37a",
   "metadata": {},
   "outputs": [],
   "source": [
    "print(\"🚀 Starting Springer crawling...\")\n",
    "\n",
    "with SpringerCrawler(\n",
    "    headless=CRAWL_CONFIG['headless'],\n",
    "    output_dir=CRAWLERS['springer']['output_dir'],\n",
    "    max_threads=CRAWL_CONFIG['max_threads'],\n",
    "    keyword_sets=keyword_sets\n",
    ") as crawler:\n",
    "    results = crawler.crawl_complete(use_multithreading=CRAWL_CONFIG['use_multithreading'])\n",
    "    print(f\"🎉 Springer Crawling completed! Results: {len(results)} keyword searches\")\n"
   ]
  },
  {
   "cell_type": "code",
   "execution_count": null,
   "id": "64ae490a",
   "metadata": {},
   "outputs": [],
   "source": [
    "print(\"🔎 Starting keyword filtering...\")\n",
    "\n",
    "filtered_output_dir = os.path.join(output_dir, \"filtered\")\n",
    "os.makedirs(filtered_output_dir, exist_ok=True)\n",
    "\n",
    "keyword_filter = KeywordFilter(\n",
    "    input_csv=output_dir,\n",
    "    output_dir=filtered_output_dir\n",
    ")\n",
    "\n",
    "filter_keywords = [\n",
    "    \"software testing\", \"test automation\", \"llm\", \"large language model\",\n",
    "    \"ai agent\", \"prompt engineering\"\n",
    "]\n",
    "\n",
    "filtered_papers = keyword_filter.filter_papers(keywords=filter_keywords, min_keyword_occurrences=2)\n",
    "print(f\"✅ Filtered {len(filtered_papers)} papers containing relevant keywords\")\n"
   ]
  },
  {
   "cell_type": "code",
   "execution_count": 15,
   "id": "13661f35",
   "metadata": {},
   "outputs": [
    {
     "name": "stdout",
     "output_type": "stream",
     "text": [
      "📥 Starting paper download process...\n"
     ]
    },
    {
     "ename": "NameError",
     "evalue": "name 'filtered_papers' is not defined",
     "output_type": "error",
     "traceback": [
      "\u001b[1;31m---------------------------------------------------------------------------\u001b[0m",
      "\u001b[1;31mNameError\u001b[0m                                 Traceback (most recent call last)",
      "Cell \u001b[1;32mIn[15], line 10\u001b[0m\n\u001b[0;32m      6\u001b[0m os\u001b[38;5;241m.\u001b[39mmakedirs(download_dir, exist_ok\u001b[38;5;241m=\u001b[39m\u001b[38;5;28;01mTrue\u001b[39;00m)\n\u001b[0;32m      8\u001b[0m \u001b[38;5;66;03m# Initialize the paper downloader\u001b[39;00m\n\u001b[0;32m      9\u001b[0m downloader \u001b[38;5;241m=\u001b[39m PaperDownloader(\n\u001b[1;32m---> 10\u001b[0m     input_files\u001b[38;5;241m=\u001b[39mfiltered_papers,  \u001b[38;5;66;03m# Use the filtered papers from previous step\u001b[39;00m\n\u001b[0;32m     11\u001b[0m     output_dir\u001b[38;5;241m=\u001b[39mdownload_dir,\n\u001b[0;32m     12\u001b[0m     max_papers\u001b[38;5;241m=\u001b[39m\u001b[38;5;241m50\u001b[39m  \u001b[38;5;66;03m# Limit the number of papers to download\u001b[39;00m\n\u001b[0;32m     13\u001b[0m )\n\u001b[0;32m     15\u001b[0m \u001b[38;5;66;03m# Download papers\u001b[39;00m\n\u001b[0;32m     16\u001b[0m downloaded_papers \u001b[38;5;241m=\u001b[39m downloader\u001b[38;5;241m.\u001b[39mdownload_papers()\n",
      "\u001b[1;31mNameError\u001b[0m: name 'filtered_papers' is not defined"
     ]
    }
   ],
   "source": [
    "# 📥 Downloading papers for further analysis\n",
    "print(\"📥 Starting paper download process...\")\n",
    "\n",
    "# Define download directory\n",
    "download_dir = os.path.join(output_dir, \"downloaded_papers\")\n",
    "os.makedirs(download_dir, exist_ok=True)\n",
    "\n",
    "# Initialize the paper downloader\n",
    "downloader = PaperDownloader(\n",
    "    input_files=filtered_papers,  # Use the filtered papers from previous step\n",
    "    output_dir=download_dir,\n",
    "    max_papers=50  # Limit the number of papers to download\n",
    ")\n",
    "\n",
    "# Download papers\n",
    "downloaded_papers = downloader.download_papers()\n",
    "print(f\"📚 Downloaded {len(downloaded_papers)} papers for analysis\")\n"
   ]
  },
  {
   "cell_type": "code",
   "execution_count": null,
   "id": "6d646cdb",
   "metadata": {},
   "outputs": [],
   "source": [
    "# 📊 Analyzing paper content\n",
    "print(\"🔬 Starting content analysis...\")\n",
    "\n",
    "# Initialize the content analyzer\n",
    "analyzer = ContentAnalyzer(\n",
    "    input_dir=download_dir,\n",
    "    output_dir=os.path.join(output_dir, \"analysis\")\n",
    ")\n",
    "\n",
    "# Define analysis parameters\n",
    "analysis_params = {\n",
    "    \"extract_titles\": True,\n",
    "    \"extract_abstracts\": True,\n",
    "    \"extract_keywords\": True,\n",
    "    \"summarize_content\": True,\n",
    "    \"perform_sentiment_analysis\": True,\n",
    "    \"extract_methodology\": True\n",
    "}\n",
    "\n",
    "# Perform analysis\n",
    "analysis_results = analyzer.analyze_papers(**analysis_params)\n",
    "\n",
    "# Display summary of analysis\n",
    "print(f\"✅ Completed analysis of {len(analysis_results)} papers\")\n",
    "\n",
    "# Create a summary dataframe for visualization\n",
    "if analysis_results:\n",
    "    summary_df = pd.DataFrame(analysis_results)\n",
    "    print(\"\\n📈 Analysis Summary:\")\n",
    "    print(f\"- Total papers analyzed: {len(summary_df)}\")\n",
    "    if 'methodology' in summary_df.columns:\n",
    "        methodology_counts = summary_df['methodology'].value_counts()\n",
    "        print(f\"- Top methodologies: {methodology_counts.head(3).to_dict()}\")\n",
    "    if 'sentiment' in summary_df.columns:\n",
    "        sentiment_avg = summary_df['sentiment'].mean()\n",
    "        print(f\"- Average sentiment score: {sentiment_avg:.2f}\")\n",
    "        \n",
    "    # Save analysis results\n",
    "    summary_df.to_csv(os.path.join(output_dir, \"analysis_summary.csv\"), index=False)\n",
    "    print(\"💾 Analysis summary saved to analysis_summary.csv\")\n"
   ]
  }
 ],
 "metadata": {
  "kernelspec": {
   "display_name": "base",
   "language": "python",
   "name": "python3"
  },
  "language_info": {
   "codemirror_mode": {
    "name": "ipython",
    "version": 3
   },
   "file_extension": ".py",
   "mimetype": "text/x-python",
   "name": "python",
   "nbconvert_exporter": "python",
   "pygments_lexer": "ipython3",
   "version": "3.12.7"
  }
 },
 "nbformat": 4,
 "nbformat_minor": 5
}
